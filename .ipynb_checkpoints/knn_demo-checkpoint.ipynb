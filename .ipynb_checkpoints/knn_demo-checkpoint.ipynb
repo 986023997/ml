{
 "cells": [
  {
   "cell_type": "code",
   "execution_count": 86,
   "id": "0c38f903-9894-4d3d-9435-4f7ee2f142fb",
   "metadata": {
    "tags": []
   },
   "outputs": [],
   "source": [
    "import numpy as np\n",
    "import matplotlib.pyplot as plt"
   ]
  },
  {
   "cell_type": "code",
   "execution_count": 87,
   "id": "90a1e283-c612-4444-9255-6c221b461805",
   "metadata": {
    "tags": []
   },
   "outputs": [
    {
     "data": {
      "image/png": "[encoded data removed]",
      "text/plain": [
       "<Figure size 1000x600 with 1 Axes>"
      ]
     },
     "metadata": {},
     "output_type": "display_data"
    }
   ],
   "source": [
    " # 简单的示例数据\n",
    "X = np.array([[1, 2],[1, 4],[4, 2],[4, 4],[2,3],[3,4]])\n",
    "Y = np.array([0, 0, 1, 1,0,1])\n",
    "X_new = np.array([3, 3])\n",
    "plt.figure(figsize=(10, 6))  # 设置图形大小\n",
    "plt.scatter(X[Y == 0,0], X[Y == 0,1], marker='+',color = 'g')\n",
    "plt.scatter(X[Y == 1,0], X[Y == 1,1], marker='*',color = 'r')\n",
    "plt.scatter(X_new[0], X_new[1], marker='o',color = 'blue')\n",
    "plt.show()"
   ]
  },
  {
   "cell_type": "code",
   "execution_count": 88,
   "id": "7a8ca981-d788-44b7-bb4c-3d96f16ea43f",
   "metadata": {
    "tags": []
   },
   "outputs": [],
   "source": [
    "#调用自己实现的knn\n",
    "%run KNNDemo.py"
   ]
  },
  {
   "cell_type": "code",
   "execution_count": 89,
   "id": "35c7bcb3-4703-49fd-bb2e-5597260d7594",
   "metadata": {
    "tags": []
   },
   "outputs": [
    {
     "data": {
      "text/plain": [
       "0"
      ]
     },
     "execution_count": 89,
     "metadata": {},
     "output_type": "execute_result"
    }
   ],
   "source": [
    "predict = KNN_classify(3,X,Y,X_new)\n",
    "predict"
   ]
  },
  {
   "cell_type": "code",
   "execution_count": 90,
   "id": "e36c740f-5cc9-496f-8193-e1a968db8e64",
   "metadata": {
    "tags": []
   },
   "outputs": [],
   "source": [
    "#调用sklearn中的knn\n",
    "from sklearn.neighbors import KNeighborsClassifier"
   ]
  },
  {
   "cell_type": "code",
   "execution_count": 91,
   "id": "49fd565f-f8c2-49d5-9eb1-0554352200dc",
   "metadata": {
    "tags": []
   },
   "outputs": [
    {
     "data": {
      "text/plain": [
       "array([1])"
      ]
     },
     "execution_count": 91,
     "metadata": {},
     "output_type": "execute_result"
    }
   ],
   "source": [
    "knn_classifier = KNeighborsClassifier(n_neighbors = 3)\n",
    "knn_classifier.fit(X,Y)\n",
    "x_predict = X_new.reshape(1,-1)\n",
    "y_predict = knn_classifier.predict(x_predict)\n",
    "y_predict"
   ]
  },
  {
   "cell_type": "code",
   "execution_count": 94,
   "id": "903e4a82-e58a-47fb-b945-e66cfac37d07",
   "metadata": {
    "tags": []
   },
   "outputs": [],
   "source": [
    "#调用自己实现封装的knn\n",
    "%run KNN.py"
   ]
  },
  {
   "cell_type": "code",
   "execution_count": 95,
   "id": "2a8ad5d2-7cea-4eb1-b9fe-8516aa0222db",
   "metadata": {
    "tags": []
   },
   "outputs": [
    {
     "data": {
      "text/plain": [
       "[0]"
      ]
     },
     "execution_count": 95,
     "metadata": {},
     "output_type": "execute_result"
    }
   ],
   "source": [
    "my_knn_classifier = KNNClassifier(k = 3)\n",
    "my_knn_classifier.fit(X,Y)\n",
    "y_predict = my_knn_classifier.predict(x_predict)\n",
    "y_predict"
   ]
  },
  {
   "cell_type": "code",
   "execution_count": null,
   "id": "2f767b5d-6b8c-49c1-902b-e4ca8d4d469c",
   "metadata": {},
   "outputs": [],
   "source": []
  }
 ],
 "metadata": {
  "kernelspec": {
   "display_name": "Python 3 (ipykernel)",
   "language": "python",
   "name": "python3"
  },
  "language_info": {
   "codemirror_mode": {
    "name": "ipython",
    "version": 3
   },
   "file_extension": ".py",
   "mimetype": "text/x-python",
   "name": "python",
   "nbconvert_exporter": "python",
   "pygments_lexer": "ipython3",
   "version": "3.11.5"
  }
 },
 "nbformat": 4,
 "nbformat_minor": 5
}
