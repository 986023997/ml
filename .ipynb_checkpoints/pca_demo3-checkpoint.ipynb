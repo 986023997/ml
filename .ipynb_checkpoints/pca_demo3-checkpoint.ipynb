{
 "cells": [
  {
   "cell_type": "code",
   "execution_count": 1,
   "id": "87f919e0-0da1-45c9-917f-df43b555af8a",
   "metadata": {
    "tags": []
   },
   "outputs": [
    {
     "name": "stdout",
     "output_type": "stream",
     "text": [
      "dict_keys(['__header__', '__version__', '__globals__', 'faces', 'p', 'u', 'v'])\n"
     ]
    },
    {
     "data": {
      "text/plain": [
       "array([[ 82.6, 151. ,  91.7, ...,  34.4,  64.2, 100.2],\n",
       "       [ 82.5, 156.3,  88.8, ...,  36.4,  65.2, 100. ],\n",
       "       [ 84.3, 160.3,  87.6, ...,  38.2,  69. ,  98.6],\n",
       "       ...,\n",
       "       [ 68.2,  29.9,  73.7, ...,  79.5,  59.4,  83.9],\n",
       "       [ 67.1,  29.1,  70.9, ...,  80. ,  63.2,  85.9],\n",
       "       [ 67. ,  28.1,  64.9, ...,  79.4,  65.5,  85.7]])"
      ]
     },
     "execution_count": 1,
     "metadata": {},
     "output_type": "execute_result"
    }
   ],
   "source": [
    "import numpy as np\n",
    "import matplotlib.pyplot as plt\n",
    "import scipy.io\n",
    "\n",
    "# 加载.mat文件\n",
    "mat_data = scipy.io.loadmat('olivettifaces.mat')\n",
    "\n",
    "# 查看文件中的变量名\n",
    "print(mat_data.keys())\n",
    "\n",
    "mat_data['u']"
   ]
  },
  {
   "cell_type": "code",
   "execution_count": 2,
   "id": "73d2a9a0-1cf5-4f83-a472-f4e5d5fd19b1",
   "metadata": {
    "tags": []
   },
   "outputs": [],
   "source": [
    "x = mat_data['faces']\n",
    "x = x.T"
   ]
  },
  {
   "cell_type": "code",
   "execution_count": 3,
   "id": "7101401e-c5cf-456a-86e9-1da99576a1de",
   "metadata": {
    "tags": []
   },
   "outputs": [
    {
     "ename": "NameError",
     "evalue": "name 'example' is not defined",
     "output_type": "error",
     "traceback": [
      "\u001b[0;31m---------------------------------------------------------------------------\u001b[0m",
      "\u001b[0;31mNameError\u001b[0m                                 Traceback (most recent call last)",
      "Cell \u001b[0;32mIn[3], line 4\u001b[0m\n\u001b[1;32m      2\u001b[0m x \u001b[38;5;241m=\u001b[39m x[random_index]\n\u001b[1;32m      3\u001b[0m example_faces \u001b[38;5;241m=\u001b[39m x[:\u001b[38;5;241m36\u001b[39m,:]\n\u001b[0;32m----> 4\u001b[0m example\u001b[38;5;241m.\u001b[39mshape\n",
      "\u001b[0;31mNameError\u001b[0m: name 'example' is not defined"
     ]
    }
   ],
   "source": [
    "random_index = np.random.permutation(len(x))\n",
    "x = x[random_index]\n",
    "example_faces = x[:36,:]\n",
    "example_faces.shape"
   ]
  },
  {
   "cell_type": "code",
   "execution_count": null,
   "id": "268d99bc-c366-4136-8cba-7a29dbbd506a",
   "metadata": {
    "tags": []
   },
   "outputs": [],
   "source": [
    "def plot_faces(data):\n",
    "    fig,axes = plt.subplots(6,6,figsize = (10,10),subplot_kw = {'xticks':[],'yticks':[]},\n",
    "    gridspec_kw = dict(hspace=0.1,wspace=0.1))\n",
    "    for i,ax in enumerate(axes.flat):\n",
    "        ax.imshow(data[i].T.reshape(64,64),cmap='bone')\n",
    "    plt.show()\n",
    "plot_faces(example_faces)"
   ]
  },
  {
   "cell_type": "code",
   "execution_count": null,
   "id": "adb9532f-204f-43bf-ba2e-dcfde56fa230",
   "metadata": {},
   "outputs": [],
   "source": []
  }
 ],
 "metadata": {
  "kernelspec": {
   "display_name": "Python 3 (ipykernel)",
   "language": "python",
   "name": "python3"
  },
  "language_info": {
   "codemirror_mode": {
    "name": "ipython",
    "version": 3
   },
   "file_extension": ".py",
   "mimetype": "text/x-python",
   "name": "python",
   "nbconvert_exporter": "python",
   "pygments_lexer": "ipython3",
   "version": "3.11.5"
  }
 },
 "nbformat": 4,
 "nbformat_minor": 5
}
