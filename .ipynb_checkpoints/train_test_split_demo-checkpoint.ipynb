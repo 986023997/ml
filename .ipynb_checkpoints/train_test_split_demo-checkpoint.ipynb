{
 "cells": [
  {
   "cell_type": "markdown",
   "id": "4fa776b8-98af-4229-8cf6-85d5a5efbe61",
   "metadata": {},
   "source": [
    "数据集划分\n",
    "将数据集分为训练集和测试集"
   ]
  },
  {
   "cell_type": "code",
   "execution_count": 48,
   "id": "2cbde5ff-fd3d-4df9-b520-81d8132e7fd8",
   "metadata": {
    "tags": []
   },
   "outputs": [],
   "source": [
    "import numpy as np\n",
    "import matplotlib.pyplot as plt\n",
    "from sklearn import datasets"
   ]
  },
  {
   "cell_type": "code",
   "execution_count": 49,
   "id": "54b1a812-dcae-4850-b3fe-cf04c6dc5563",
   "metadata": {
    "tags": []
   },
   "outputs": [],
   "source": [
    "# 加载鸢尾花数据\n",
    "iris = datasets.load_iris()\n",
    "x = iris.data\n",
    "y = iris.target"
   ]
  },
  {
   "cell_type": "code",
   "execution_count": 50,
   "id": "f48fb9c4-55cb-4acc-94cf-7684fa3a9631",
   "metadata": {
    "tags": []
   },
   "outputs": [
    {
     "data": {
      "text/plain": [
       "(150, 4)"
      ]
     },
     "execution_count": 50,
     "metadata": {},
     "output_type": "execute_result"
    }
   ],
   "source": [
    "x.shape"
   ]
  },
  {
   "cell_type": "code",
   "execution_count": 51,
   "id": "923171a4-9150-4052-9361-d7800eb7cb7f",
   "metadata": {
    "tags": []
   },
   "outputs": [
    {
     "data": {
      "text/plain": [
       "(150,)"
      ]
     },
     "execution_count": 51,
     "metadata": {},
     "output_type": "execute_result"
    }
   ],
   "source": [
    "y.shape"
   ]
  },
  {
   "cell_type": "code",
   "execution_count": 52,
   "id": "8f2dcdfc-d1f8-4003-963a-4737e3ce22d8",
   "metadata": {
    "tags": []
   },
   "outputs": [
    {
     "data": {
      "text/plain": [
       "array([ 43,  81,  16,  91, 130, 145,  89, 144,  85,  68, 105,   2,  52,\n",
       "        51,  75,  72, 108, 102,  93, 101, 117,  14,  31,  50,  69,  33,\n",
       "        26,  78,  66,  25, 109, 116,  30,   6, 146,  11,  74,  80,  12,\n",
       "       142,  19,  87,   8,  62,  17,  92,  56,  38,  94,  76,  37,  44,\n",
       "        77,  97,  61,  21,  28,  99, 143, 140, 111, 123,  10,  36, 133,\n",
       "        42,  54,  60, 112,  57, 136,  49,  23,  63,  58, 107,  48,  27,\n",
       "        59,  73, 128,  45,  32,  20,   7,  83,  79,  82, 103,  88, 132,\n",
       "        29, 124,  65,   5, 104,  95, 118, 131,  18, 106,   0, 115, 138,\n",
       "       137, 121,  24,  64, 148,  34, 110, 149, 129, 125,  47,   4, 147,\n",
       "         9,  70, 113, 134, 120,  39,  13,  67,  71,  15,  84, 127, 100,\n",
       "       141,  40,  22, 114, 122,   1,  96, 126,   3, 119,  86,  90,  55,\n",
       "       135,  98,  53, 139,  35,  41,  46])"
      ]
     },
     "execution_count": 52,
     "metadata": {},
     "output_type": "execute_result"
    }
   ],
   "source": [
    "#生成随机索引\n",
    "shuffle_indexs = np.random.permutation(len(x))\n",
    "shuffle_indexs"
   ]
  },
  {
   "cell_type": "code",
   "execution_count": 53,
   "id": "46d73daa-6dea-44c0-bb58-575c9f1e7d92",
   "metadata": {
    "tags": []
   },
   "outputs": [
    {
     "data": {
      "text/plain": [
       "45"
      ]
     },
     "execution_count": 53,
     "metadata": {},
     "output_type": "execute_result"
    }
   ],
   "source": [
    "#指定测试集的比例\n",
    "test_ratio = 0.3\n",
    "test_size = int(len(x) * test_ratio)\n",
    "test_size"
   ]
  },
  {
   "cell_type": "code",
   "execution_count": 54,
   "id": "24d54e67-289d-48bd-8f9b-9dc9cba5f867",
   "metadata": {
    "tags": []
   },
   "outputs": [
    {
     "name": "stdout",
     "output_type": "stream",
     "text": [
      "(105, 4)\n",
      "(105,)\n",
      "(45, 4)\n",
      "(45,)\n"
     ]
    }
   ],
   "source": [
    "# 划分\n",
    "train_indexs = shuffle_indexs[test_size:]\n",
    "test_indexs = shuffle_indexs[:test_size]\n",
    "x_train = x[train_indexs]\n",
    "y_train = y[train_indexs]\n",
    "x_test = x[test_indexs]\n",
    "y_test = y[test_indexs]\n",
    "print(x_train.shape)\n",
    "print(y_train.shape)\n",
    "print(x_test.shape)\n",
    "print(y_test.shape)"
   ]
  },
  {
   "cell_type": "code",
   "execution_count": 55,
   "id": "6e1134e6-756c-47aa-a730-781b380bdde2",
   "metadata": {
    "tags": []
   },
   "outputs": [],
   "source": [
    "%run model_selection.py"
   ]
  },
  {
   "cell_type": "code",
   "execution_count": 56,
   "id": "e4b253fc-f7e2-43c9-8a3b-b3c37cf050ae",
   "metadata": {
    "tags": []
   },
   "outputs": [
    {
     "name": "stdout",
     "output_type": "stream",
     "text": [
      "(120, 4)\n",
      "(120,)\n",
      "(30, 4)\n",
      "(30,)\n"
     ]
    }
   ],
   "source": [
    "x_train,y_train,x_test,y_test = train_test_split(x,y,0.2)\n",
    "print(x_train.shape)\n",
    "print(y_train.shape)\n",
    "print(x_test.shape)\n",
    "print(y_test.shape)"
   ]
  },
  {
   "cell_type": "code",
   "execution_count": 57,
   "id": "63d39535-2a3c-4485-aa25-50a380a1a350",
   "metadata": {
    "tags": []
   },
   "outputs": [],
   "source": [
    "# 测试knn分类器\n",
    "%run MyKNN.py"
   ]
  },
  {
   "cell_type": "code",
   "execution_count": 58,
   "id": "916783f5-99c4-4105-b896-00a64dcbd16c",
   "metadata": {
    "tags": []
   },
   "outputs": [
    {
     "data": {
      "text/plain": [
       "[0,\n",
       " 1,\n",
       " 0,\n",
       " 1,\n",
       " 1,\n",
       " 0,\n",
       " 1,\n",
       " 1,\n",
       " 0,\n",
       " 2,\n",
       " 1,\n",
       " 0,\n",
       " 2,\n",
       " 1,\n",
       " 1,\n",
       " 0,\n",
       " 0,\n",
       " 2,\n",
       " 1,\n",
       " 0,\n",
       " 1,\n",
       " 0,\n",
       " 0,\n",
       " 2,\n",
       " 0,\n",
       " 2,\n",
       " 2,\n",
       " 2,\n",
       " 0,\n",
       " 0]"
      ]
     },
     "execution_count": 58,
     "metadata": {},
     "output_type": "execute_result"
    }
   ],
   "source": [
    "my_knn_classifier = KNNClassifier(k = 5)\n",
    "my_knn_classifier.fit(x_train,y_train)\n",
    "y_predict = my_knn_classifier.predict(x_test)\n",
    "y_predict"
   ]
  },
  {
   "cell_type": "code",
   "execution_count": 59,
   "id": "415435c0-6db8-4e4e-b1aa-a94879f30362",
   "metadata": {
    "tags": []
   },
   "outputs": [
    {
     "data": {
      "text/plain": [
       "array([0, 1, 0, 1, 1, 0, 1, 1, 0, 1, 1, 0, 2, 1, 1, 0, 0, 2, 1, 0, 1, 0,\n",
       "       0, 1, 0, 2, 2, 2, 0, 0])"
      ]
     },
     "execution_count": 59,
     "metadata": {},
     "output_type": "execute_result"
    }
   ],
   "source": [
    "y_test"
   ]
  },
  {
   "cell_type": "code",
   "execution_count": 60,
   "id": "e693943d-9689-4507-93b0-17fa848ac28d",
   "metadata": {
    "tags": []
   },
   "outputs": [
    {
     "data": {
      "text/plain": [
       "28"
      ]
     },
     "execution_count": 60,
     "metadata": {},
     "output_type": "execute_result"
    }
   ],
   "source": [
    "sum(y_predict == y_test)"
   ]
  },
  {
   "cell_type": "code",
   "execution_count": 61,
   "id": "38f2bfd0-6b9d-434b-9db7-e8e98dc88a65",
   "metadata": {
    "tags": []
   },
   "outputs": [
    {
     "data": {
      "text/plain": [
       "0.9333333333333333"
      ]
     },
     "execution_count": 61,
     "metadata": {},
     "output_type": "execute_result"
    }
   ],
   "source": [
    "sum(y_predict == y_test) / len(y_test)"
   ]
  },
  {
   "cell_type": "code",
   "execution_count": null,
   "id": "96e94fde-60f5-4e23-a472-fbbf8286b92a",
   "metadata": {},
   "outputs": [],
   "source": [
    "#使用sklearn中的train_test_split\n",
    "from sklearn.model_selection import train_test_split"
   ]
  },
  {
   "cell_type": "code",
   "execution_count": 62,
   "id": "2cd5eed5-61e5-4762-a83a-1244674cc1d9",
   "metadata": {
    "tags": []
   },
   "outputs": [
    {
     "name": "stdout",
     "output_type": "stream",
     "text": [
      "(120, 4)\n",
      "(120,)\n",
      "(30, 4)\n",
      "(30,)\n"
     ]
    }
   ],
   "source": [
    "x_train,y_train,x_test,y_test = train_test_split(x,y,0.2)\n",
    "print(x_train.shape)\n",
    "print(y_train.shape)\n",
    "print(x_test.shape)\n",
    "print(y_test.shape)"
   ]
  },
  {
   "cell_type": "code",
   "execution_count": null,
   "id": "f57e9f24-e2fd-4a54-94f2-41d517d64ca9",
   "metadata": {},
   "outputs": [],
   "source": []
  }
 ],
 "metadata": {
  "kernelspec": {
   "display_name": "Python 3 (ipykernel)",
   "language": "python",
   "name": "python3"
  },
  "language_info": {
   "codemirror_mode": {
    "name": "ipython",
    "version": 3
   },
   "file_extension": ".py",
   "mimetype": "text/x-python",
   "name": "python",
   "nbconvert_exporter": "python",
   "pygments_lexer": "ipython3",
   "version": "3.11.5"
  }
 },
 "nbformat": 4,
 "nbformat_minor": 5
}
