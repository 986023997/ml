{
 "cells": [
  {
   "cell_type": "code",
   "execution_count": 1,
   "id": "b216925d-5b16-4739-aa03-174ed8e400a6",
   "metadata": {
    "tags": []
   },
   "outputs": [],
   "source": [
    "from sklearn.datasets import fetch_openml\n",
    "import numpy as np\n",
    "from sklearn.datasets import fetch_openml\n",
    "from sklearn.model_selection import train_test_split\n",
    "from sklearn.linear_model import LinearRegression\n",
    "boston = fetch_openml(name='boston', version=1, as_frame=True, parser='auto')\n",
    "x, y = boston.data, boston.target\n",
    "# 确保所有特征都是数值类型\n",
    "x = x.select_dtypes(include=[np.number])\n",
    "\n",
    "# 移除包含缺失值的行\n",
    "x = x.dropna()\n",
    "y = y.loc[x.index]\n",
    "x = x[y < 50]\n",
    "y = y[y < 50]\n",
    "x = np.array(x)\n",
    "y = np.array(y)"
   ]
  },
  {
   "cell_type": "code",
   "execution_count": 2,
   "id": "c971649d-4212-4d74-9871-ab776dcc2114",
   "metadata": {
    "tags": []
   },
   "outputs": [
    {
     "data": {
      "text/plain": [
       "(array([[3.25430e-01, 0.00000e+00, 2.18900e+01, ..., 2.12000e+01,\n",
       "         3.96900e+02, 1.53900e+01],\n",
       "        [2.14090e-01, 2.20000e+01, 5.86000e+00, ..., 1.91000e+01,\n",
       "         3.77070e+02, 3.59000e+00],\n",
       "        [8.20058e+00, 0.00000e+00, 1.81000e+01, ..., 2.02000e+01,\n",
       "         3.50000e+00, 1.69400e+01],\n",
       "        ...,\n",
       "        [5.11830e-01, 0.00000e+00, 6.20000e+00, ..., 1.74000e+01,\n",
       "         3.90070e+02, 4.73000e+00],\n",
       "        [1.53800e-02, 9.00000e+01, 3.75000e+00, ..., 1.59000e+01,\n",
       "         3.86340e+02, 3.11000e+00],\n",
       "        [1.00245e+00, 0.00000e+00, 8.14000e+00, ..., 2.10000e+01,\n",
       "         3.80230e+02, 1.19800e+01]]),\n",
       " array([18. , 24.8, 13.5, 34.9, 23.7, 13.8, 25.1, 28.5, 15.6, 33. , 16.2,\n",
       "        16.3, 29.4, 17.8, 22.2, 20.6, 13.8, 19.4, 22.5, 23.9, 12.7, 24.8,\n",
       "        23.9, 20.7, 23.2, 37.9, 13.5, 22.4, 12.3, 32.7, 43.1,  8.8, 12.8,\n",
       "        41.7, 19.1, 21.7, 10.5, 24. , 27. , 23.1, 11. , 18.9, 15.2, 19.7,\n",
       "        19.4, 14.3, 23.3, 31. , 19.8, 22.8, 19.6, 14.9, 24.7, 15.4, 19.6,\n",
       "        18.9, 23. , 10.8, 28.6, 35.4, 18.8, 23.4, 22.6,  8.3, 12.7, 26.6,\n",
       "        19.8, 18.9, 29. , 19. , 13. , 22.3, 22.8, 19.5, 14.1, 28.4, 20.1,\n",
       "        13.9, 12. , 33.1, 38.7, 17.5, 19.9, 20.2, 29.6, 21.2, 21.6, 23.9,\n",
       "        28.1, 20.4, 24.4, 35.4, 46. , 20.4, 16. , 31.5, 44. , 21. ]))"
      ]
     },
     "execution_count": 2,
     "metadata": {},
     "output_type": "execute_result"
    }
   ],
   "source": [
    "x_train,x_test,y_train,y_test = train_test_split(x,y,test_size=0.2,random_state = 666)\n",
    "x_train,y_train\n",
    "lin_reg = LinearRegression()\n",
    "lin_reg.fit(np.array(x_train),np.array(y_train))\n",
    "x_test,y_test"
   ]
  },
  {
   "cell_type": "code",
   "execution_count": 3,
   "id": "117db37b-7aa1-4afe-8d08-b835c9e43df7",
   "metadata": {
    "tags": []
   },
   "outputs": [
    {
     "data": {
      "text/plain": [
       "0.8037090355081942"
      ]
     },
     "execution_count": 3,
     "metadata": {},
     "output_type": "execute_result"
    }
   ],
   "source": [
    "lin_reg.score(x_test,y_test)"
   ]
  },
  {
   "cell_type": "markdown",
   "id": "d0c023b1-64dc-44f9-9db3-9ea0c5d15874",
   "metadata": {},
   "source": [
    "随机梯度下降"
   ]
  },
  {
   "cell_type": "code",
   "execution_count": 4,
   "id": "ca55ac22-82d9-4977-8476-b17e64544315",
   "metadata": {},
   "outputs": [],
   "source": [
    "#预处理数据\n",
    "from sklearn.preprocessing import StandardScaler\n",
    "standardScaler = StandardScaler()\n",
    "standardScaler.fit(x_train)\n",
    "x_train_standard = standardScaler.transform(x_train)\n",
    "x_test_standard = standardScaler.transform(x_test)"
   ]
  },
  {
   "cell_type": "code",
   "execution_count": 5,
   "id": "2bdff732-0b26-475e-ba54-9b8fbede9a76",
   "metadata": {},
   "outputs": [
    {
     "data": {
      "text/plain": [
       "(numpy.ndarray, numpy.ndarray)"
      ]
     },
     "execution_count": 5,
     "metadata": {},
     "output_type": "execute_result"
    }
   ],
   "source": [
    "type(x_train),type(x_train_standard)"
   ]
  },
  {
   "cell_type": "code",
   "execution_count": 8,
   "id": "4e3940d6-6120-4185-ac85-6be3f7b1dec3",
   "metadata": {},
   "outputs": [
    {
     "data": {
      "text/plain": [
       "SimpleLinearRegression4()"
      ]
     },
     "execution_count": 8,
     "metadata": {},
     "output_type": "execute_result"
    }
   ],
   "source": [
    "from MyLinearRegression5 import SimpleLinearRegression5\n",
    "simpleLinearRegression5 = SimpleLinearRegression5()\n",
    "simpleLinearRegression5.fit_sgd(x_train_standard,y_train,50)"
   ]
  },
  {
   "cell_type": "code",
   "execution_count": 9,
   "id": "f7cbd913-d688-4954-983b-114d87363f68",
   "metadata": {
    "tags": []
   },
   "outputs": [
    {
     "data": {
      "text/plain": [
       "0.8032391370498877"
      ]
     },
     "execution_count": 9,
     "metadata": {},
     "output_type": "execute_result"
    }
   ],
   "source": [
    "simpleLinearRegression5.score(x_test_standard,y_test)"
   ]
  },
  {
   "cell_type": "markdown",
   "id": "ce86d887-bc6a-481d-88e3-1ab5a89fa800",
   "metadata": {},
   "source": [
    "使用sklearn中的sgd"
   ]
  },
  {
   "cell_type": "code",
   "execution_count": 11,
   "id": "f8486eb5-3f3b-4c0e-a308-6c7588b89e59",
   "metadata": {
    "tags": []
   },
   "outputs": [
    {
     "data": {
      "text/plain": [
       "0.803174476945227"
      ]
     },
     "execution_count": 11,
     "metadata": {},
     "output_type": "execute_result"
    }
   ],
   "source": [
    "from sklearn.linear_model import SGDRegressor\n",
    "sgd_reg = SGDRegressor()\n",
    "sgd_reg.fit(x_train_standard,y_train)\n",
    "sgd_reg.score(x_test_standard,y_test)"
   ]
  },
  {
   "cell_type": "code",
   "execution_count": null,
   "id": "395a77b1-48e5-40b6-b581-f533d3a1825b",
   "metadata": {},
   "outputs": [],
   "source": []
  }
 ],
 "metadata": {
  "kernelspec": {
   "display_name": "Python 3 (ipykernel)",
   "language": "python",
   "name": "python3"
  },
  "language_info": {
   "codemirror_mode": {
    "name": "ipython",
    "version": 3
   },
   "file_extension": ".py",
   "mimetype": "text/x-python",
   "name": "python",
   "nbconvert_exporter": "python",
   "pygments_lexer": "ipython3",
   "version": "3.11.5"
  }
 },
 "nbformat": 4,
 "nbformat_minor": 5
}
