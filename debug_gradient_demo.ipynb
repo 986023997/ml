{
 "cells": [
  {
   "cell_type": "markdown",
   "id": "800d36aa-bc95-4c09-b174-b0a0a5b219b3",
   "metadata": {},
   "source": [
    "调试梯度\n",
    "通过导数的定义来求解梯度"
   ]
  },
  {
   "cell_type": "code",
   "execution_count": null,
   "id": "9638cb70-30ee-4ae8-b3a7-a7f05d1502db",
   "metadata": {},
   "outputs": [],
   "source": [
    "\n",
    "def J(theta, x_b, y):\n",
    "        try:\n",
    "            return np.sum((y - x_b.dot(theta)) ** 2) / len(y)\n",
    "        except:\n",
    "            return float(\"inf\")  \n",
    "\n",
    "\n",
    "def dJ_debug(theta, x_b, y,epsilon = 0.01):\n",
    "    res = np.empty(len(theta))\n",
    "    for i in range(len(theta)):\n",
    "        theta_1 = theta.copy()\n",
    "        theta_1[i] += epsilon \n",
    "        theta_2 = theta.copy()\n",
    "        theta_2[i] -= epsilon \n",
    "        res[i] = (J(theta_1,x_b,y) - J(theta_2,x_b,y)) / (2 * epsilon)\n",
    "    return res\n",
    "    "
   ]
  }
 ],
 "metadata": {
  "kernelspec": {
   "display_name": "Python 3 (ipykernel)",
   "language": "python",
   "name": "python3"
  },
  "language_info": {
   "codemirror_mode": {
    "name": "ipython",
    "version": 3
   },
   "file_extension": ".py",
   "mimetype": "text/x-python",
   "name": "python",
   "nbconvert_exporter": "python",
   "pygments_lexer": "ipython3",
   "version": "3.11.5"
  }
 },
 "nbformat": 4,
 "nbformat_minor": 5
}
