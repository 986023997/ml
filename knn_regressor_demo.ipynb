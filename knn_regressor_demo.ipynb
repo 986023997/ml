{
 "cells": [
  {
   "cell_type": "code",
   "execution_count": 4,
   "id": "9bce636c-d71f-4f8c-906b-a97c13b41b9e",
   "metadata": {
    "tags": []
   },
   "outputs": [
    {
     "name": "stderr",
     "output_type": "stream",
     "text": [
      "D:\\anaconda\\Lib\\site-packages\\sklearn\\datasets\\_openml.py:1002: FutureWarning: The default value of `parser` will change from `'liac-arff'` to `'auto'` in 1.4. You can set `parser='auto'` to silence this warning. Therefore, an `ImportError` will be raised from 1.4 if the dataset is dense and pandas is not installed. Note that the pandas parser may return different data types. See the Notes Section in fetch_openml's API doc for details.\n",
      "  warn(\n"
     ]
    }
   ],
   "source": [
    "from sklearn.datasets import fetch_openml\n",
    "boston = fetch_openml(name='boston', version=1, as_frame=True)\n",
    "x = boston.data\n",
    "y = boston.target"
   ]
  },
  {
   "cell_type": "code",
   "execution_count": 8,
   "id": "962644a7-c6f4-4bfe-9c16-c277daac684b",
   "metadata": {
    "tags": []
   },
   "outputs": [
    {
     "data": {
      "text/plain": [
       "(         CRIM    ZN  INDUS CHAS    NOX     RM    AGE     DIS RAD    TAX  \\\n",
       " 287   0.03871  52.5   5.32    0  0.405  6.209   31.3  7.3172   6  293.0   \n",
       " 466   3.77498   0.0  18.10    0  0.655  5.952   84.7  2.8715  24  666.0   \n",
       " 17    0.78420   0.0   8.14    0  0.538  5.990   81.7  4.2579   4  307.0   \n",
       " 184   0.08308   0.0   2.46    0  0.488  5.604   89.8  2.9879   3  193.0   \n",
       " 18    0.80271   0.0   8.14    0  0.538  5.456   36.6  3.7965   4  307.0   \n",
       " ..        ...   ...    ...  ...    ...    ...    ...     ...  ..    ...   \n",
       " 318   0.40202   0.0   9.90    0  0.544  6.382   67.2  3.5325   4  304.0   \n",
       " 414  45.74610   0.0  18.10    0  0.693  4.519  100.0  1.6582  24  666.0   \n",
       " 429   9.33889   0.0  18.10    0  0.679  6.380   95.6  1.9682  24  666.0   \n",
       " 386  24.39380   0.0  18.10    0  0.700  4.652  100.0  1.4672  24  666.0   \n",
       " 236   0.52058   0.0   6.20    1  0.507  6.631   76.5  4.1480   8  307.0   \n",
       " \n",
       "      PTRATIO       B  LSTAT  \n",
       " 287     16.6  396.90   7.14  \n",
       " 466     20.2   22.01  17.15  \n",
       " 17      21.0  386.75  14.67  \n",
       " 184     17.8  391.00  13.98  \n",
       " 18      21.0  288.99  11.69  \n",
       " ..       ...     ...    ...  \n",
       " 318     18.4  395.21  10.36  \n",
       " 414     20.2   88.27  36.98  \n",
       " 429     20.2   60.72  24.08  \n",
       " 386     20.2  396.90  28.28  \n",
       " 236     17.4  388.45   9.54  \n",
       " \n",
       " [404 rows x 13 columns],\n",
       "          CRIM    ZN  INDUS CHAS    NOX     RM    AGE     DIS RAD    TAX  \\\n",
       " 81    0.04462  25.0   4.86    0  0.426  6.619   70.4  5.4007   4  281.0   \n",
       " 453   8.24809   0.0  18.10    0  0.713  7.393   99.3  2.4527  24  666.0   \n",
       " 311   0.79041   0.0   9.90    0  0.544  6.122   52.8  2.6403   4  304.0   \n",
       " 291   0.07886  80.0   4.95    0  0.411  7.148   27.7  5.1167   4  245.0   \n",
       " 360   4.54192   0.0  18.10    0  0.770  6.398   88.0  2.5182  24  666.0   \n",
       " ..        ...   ...    ...  ...    ...    ...    ...     ...  ..    ...   \n",
       " 240   0.11329  30.0   4.93    0  0.428  6.897   54.3  6.3361   6  300.0   \n",
       " 25    0.84054   0.0   8.14    0  0.538  5.599   85.7  4.4546   4  307.0   \n",
       " 412  18.81100   0.0  18.10    0  0.597  4.628  100.0  1.5539  24  666.0   \n",
       " 128   0.32543   0.0  21.89    0  0.624  6.431   98.8  1.8125   4  437.0   \n",
       " 427  37.66190   0.0  18.10    0  0.679  6.202   78.7  1.8629  24  666.0   \n",
       " \n",
       "      PTRATIO       B  LSTAT  \n",
       " 81      19.0  395.63   7.22  \n",
       " 453     20.2  375.87  16.74  \n",
       " 311     18.4  396.90   5.98  \n",
       " 291     19.2  396.90   3.56  \n",
       " 360     20.2  374.56   7.79  \n",
       " ..       ...     ...    ...  \n",
       " 240     16.6  391.25  11.38  \n",
       " 25      21.0  303.42  16.51  \n",
       " 412     20.2   28.79  34.37  \n",
       " 128     21.2  396.90  15.39  \n",
       " 427     20.2   18.82  14.52  \n",
       " \n",
       " [102 rows x 13 columns],\n",
       " 287    23.2\n",
       " 466    19.0\n",
       " 17     17.5\n",
       " 184    26.4\n",
       " 18     20.2\n",
       "        ... \n",
       " 318    23.1\n",
       " 414     7.0\n",
       " 429     9.5\n",
       " 386    10.5\n",
       " 236    25.1\n",
       " Name: MEDV, Length: 404, dtype: float64,\n",
       " 81     23.9\n",
       " 453    17.8\n",
       " 311    22.1\n",
       " 291    37.3\n",
       " 360    25.0\n",
       "        ... \n",
       " 240    22.0\n",
       " 25     13.9\n",
       " 412    17.9\n",
       " 128    18.0\n",
       " 427    10.9\n",
       " Name: MEDV, Length: 102, dtype: float64)"
      ]
     },
     "execution_count": 8,
     "metadata": {},
     "output_type": "execute_result"
    }
   ],
   "source": [
    "from sklearn.model_selection import train_test_split\n",
    "x_train,x_test,y_train,y_test = train_test_split(x,y,test_size = 0.2,random_state = 666)\n",
    "x_train,x_test,y_train,y_test"
   ]
  },
  {
   "cell_type": "code",
   "execution_count": 10,
   "id": "13226437-6cff-4185-836e-f55c36528217",
   "metadata": {
    "tags": []
   },
   "outputs": [
    {
     "data": {
      "text/plain": [
       "0.48947733783891134"
      ]
     },
     "execution_count": 10,
     "metadata": {},
     "output_type": "execute_result"
    }
   ],
   "source": [
    "from sklearn.neighbors import KNeighborsRegressor\n",
    "knn_reg = KNeighborsRegressor()\n",
    "knn_reg.fit(x_train,y_train)\n",
    "knn_reg.score(x_test,y_test)"
   ]
  },
  {
   "cell_type": "code",
   "execution_count": 13,
   "id": "ee35e702-aaef-41e2-bafa-27182c647e38",
   "metadata": {
    "tags": []
   },
   "outputs": [
    {
     "data": {
      "text/plain": [
       "0.6189770004277746"
      ]
     },
     "execution_count": 13,
     "metadata": {},
     "output_type": "execute_result"
    }
   ],
   "source": [
    "\"\"\"\n",
    "网络搜索\n",
    "\"\"\"\n",
    "from sklearn.model_selection import GridSearchCV\n",
    "param_grid = [{\n",
    "     \"\"\"\n",
    "    权重\n",
    "    \"\"\"\n",
    "    \"weights\":[\"uniform\"],\n",
    "    \"n_neighbors\":[i for i in range(1,11)]\n",
    "},{\n",
    "     \"\"\"\n",
    "    权重\n",
    "    \"\"\"\n",
    "    \"weights\":[\"distance\"],\n",
    "    \"n_neighbors\":[i for i in range(1,11)],\n",
    "    \"\"\"\n",
    "    距离\n",
    "    \"\"\"\n",
    "    \"p\":[i for i in range(1,6)]\n",
    "}]\n",
    "knn_reg = KNeighborsRegressor()\n",
    "grid_search = GridSearchCV(knn_reg,param_grid)\n",
    "grid_search.fit(x_train,y_train)\n",
    "grid_search.score(x_test,y_test)"
   ]
  },
  {
   "cell_type": "code",
   "execution_count": 14,
   "id": "4f1ee50b-bbdd-488f-8124-abd863b10365",
   "metadata": {
    "tags": []
   },
   "outputs": [
    {
     "data": {
      "text/plain": [
       "{'n_neighbors': 7, 'p': 1, 'weights': 'distance'}"
      ]
     },
     "execution_count": 14,
     "metadata": {},
     "output_type": "execute_result"
    }
   ],
   "source": [
    "grid_search.best_params_"
   ]
  },
  {
   "cell_type": "code",
   "execution_count": null,
   "id": "cbac86a2-51c8-40e4-81c3-4d67c07c0337",
   "metadata": {},
   "outputs": [],
   "source": []
  }
 ],
 "metadata": {
  "kernelspec": {
   "display_name": "Python 3 (ipykernel)",
   "language": "python",
   "name": "python3"
  },
  "language_info": {
   "codemirror_mode": {
    "name": "ipython",
    "version": 3
   },
   "file_extension": ".py",
   "mimetype": "text/x-python",
   "name": "python",
   "nbconvert_exporter": "python",
   "pygments_lexer": "ipython3",
   "version": "3.11.5"
  }
 },
 "nbformat": 4,
 "nbformat_minor": 5
}
